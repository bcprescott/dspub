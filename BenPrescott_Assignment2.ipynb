{
 "cells": [
  {
   "cell_type": "code",
   "execution_count": null,
   "metadata": {},
   "outputs": [],
   "source": [
    "from IPython.core.interactiveshell import InteractiveShell\n",
    "InteractiveShell.ast_node_interactivity = \"all\""
   ]
  },
  {
   "cell_type": "markdown",
   "metadata": {},
   "source": [
    "<h1 align='center'>Ben Prescott, Assignment 2, MSDS422, WI2021</h1>\n"
   ]
  },
  {
   "cell_type": "code",
   "execution_count": 148,
   "metadata": {},
   "outputs": [],
   "source": [
    "import os\n",
    "import re\n",
    "import dill\n",
    "import numpy as np\n",
    "import pandas as pd\n",
    "import matplotlib.pyplot as plt\n",
    "from matplotlib.pyplot import figure\n",
    "import matplotlib.cm as cm\n",
    "import seaborn as sns\n",
    "from pandas_profiling import ProfileReport\n",
    "from pickleshare import *\n",
    "from sklearn.base import clone\n",
    "from sklearn.ensemble import RandomForestRegressor, AdaBoostRegressor\n",
    "from sklearn.model_selection import train_test_split,GridSearchCV, cross_validate\n",
    "from sklearn.metrics import silhouette_samples, silhouette_score, davies_bouldin_score, calinski_harabasz_score, r2_score, mean_squared_error\n",
    "from sklearn.preprocessing import StandardScaler\n",
    "from sklearn.cluster import KMeans\n",
    "from sklearn.decomposition import PCA\n",
    "from scipy.stats import skew \n",
    "\n",
    "%matplotlib inline\n",
    "pd.set_option('display.max_columns', None) #Displays all columns for pandas output\n",
    "sns.set(rc={'figure.figsize':(12,6)}) #Setting seaborn plot size standard"
   ]
  },
  {
   "cell_type": "code",
   "execution_count": null,
   "metadata": {},
   "outputs": [],
   "source": [
    "dill.load_session('saved_notebook.db')"
   ]
  },
  {
   "cell_type": "markdown",
   "metadata": {},
   "source": [
    "# Objective 0 - Data Load, EDA, Transformations"
   ]
  },
  {
   "cell_type": "code",
   "execution_count": null,
   "metadata": {},
   "outputs": [],
   "source": [
    "df = pd.read_pickle('amesDF.pickle')\n",
    "df.head()\n",
    "df.dtypes.value_counts()"
   ]
  },
  {
   "cell_type": "code",
   "execution_count": null,
   "metadata": {},
   "outputs": [],
   "source": [
    "df.info(verbose=True)"
   ]
  },
  {
   "cell_type": "code",
   "execution_count": null,
   "metadata": {},
   "outputs": [],
   "source": [
    "plt.scatter(df['Sale_Price'],df['Gr_Liv_Area'])"
   ]
  },
  {
   "cell_type": "code",
   "execution_count": null,
   "metadata": {},
   "outputs": [],
   "source": [
    "df2 = df[df['Gr_Liv_Area'] <= 4000].copy(deep=True)\n",
    "print(\"Observation count of less than 4000 sq ft living area:\", len(df2))\n",
    "\n",
    "dfchar, dfnum = df2.select_dtypes(include=['object']), df2.select_dtypes(exclude=['object'])"
   ]
  },
  {
   "cell_type": "code",
   "execution_count": null,
   "metadata": {},
   "outputs": [],
   "source": [
    "dfchar.dtypes.value_counts()\n",
    "dfnum.dtypes.value_counts()"
   ]
  },
  {
   "cell_type": "code",
   "execution_count": null,
   "metadata": {},
   "outputs": [],
   "source": [
    "profile = ProfileReport(dfnum, title=\"Ames Housing Dataset Profile\")\n",
    "profile.to_notebook_iframe()"
   ]
  },
  {
   "cell_type": "markdown",
   "metadata": {},
   "source": [
    "Finding an observation where the house was apparently remodeled before it was built. Removing to help reduce inaccurate data."
   ]
  },
  {
   "cell_type": "code",
   "execution_count": null,
   "metadata": {},
   "outputs": [],
   "source": [
    "#View initial shape of dataframe.\n",
    "dfnum.shape\n",
    "#Finding if any houses are listed as built after being remodeled.\n",
    "((dfnum.Year_Built-dfnum.Year_Remod_Add)>0.00).value_counts()\n",
    "#Copying all rows to a new dataframe, excluding the above found row.\n",
    "dfnum2=dfnum.loc[~((dfnum.Year_Built-dfnum.Year_Remod_Add)>0.00),:].copy(deep=True)\n",
    "#Reviewing new dataframe shape to validate row was removed.\n",
    "dfnum2.shape"
   ]
  },
  {
   "cell_type": "markdown",
   "metadata": {},
   "source": [
    "Output of Pandas Profiling report alluded to many features with a heavy positive skew. Many are due to things such as many houses not having a three season porch, but Lot_Area seems suspicious due to a few extreme outliers above the 100k mark. Considering K-means is sensitive to outliers I'll be removing these observations."
   ]
  },
  {
   "cell_type": "code",
   "execution_count": null,
   "metadata": {},
   "outputs": [],
   "source": [
    "fig, axs = plt.subplots(ncols=2)\n",
    "plt.suptitle(\"Lot Area Extreme Outliers\", fontsize=20)\n",
    "sns.scatterplot(x='Sale_Price', y='Lot_Area', data=dfnum2, ax=axs[0])\n",
    "sns.boxplot(x='Lot_Area', data=dfnum2, ax=axs[1])"
   ]
  },
  {
   "cell_type": "code",
   "execution_count": null,
   "metadata": {},
   "outputs": [],
   "source": [
    "dfnum3 = dfnum2[dfnum2['Lot_Area'] <= 100000].copy(deep=True)\n",
    "fig, axs = plt.subplots(ncols=2)\n",
    "plt.suptitle(\"Lot Area Extreme Outliers Removed\", fontsize=20)\n",
    "sns.scatterplot(x='Sale_Price', y='Lot_Area', data=dfnum3, ax=axs[0])\n",
    "sns.boxplot(x='Lot_Area', data=dfnum3, ax=axs[1])"
   ]
  },
  {
   "cell_type": "markdown",
   "metadata": {},
   "source": [
    "Referring to the mention of \"questionably numeric\" features, and some examples in provided notebooks, we'll be adjusting the features with years or months. "
   ]
  },
  {
   "cell_type": "code",
   "execution_count": null,
   "metadata": {},
   "outputs": [],
   "source": [
    "dfnum3.columns"
   ]
  },
  {
   "cell_type": "code",
   "execution_count": null,
   "metadata": {},
   "outputs": [],
   "source": [
    "smodummies = pd.get_dummies(dfnum3['Mo_Sold'],prefix=\"Sales_Mo\").astype(int)\n",
    "smodummies.columns\n",
    "\n",
    "dfnum4 = dfnum3.loc[:,~(dfnum3.columns.isin(['Mo_Sold']))]\n",
    "dfnum5 = pd.concat([dfnum4,smodummies],axis=1,ignore_index=False)\n",
    "dfnum5.head()"
   ]
  },
  {
   "cell_type": "code",
   "execution_count": null,
   "metadata": {},
   "outputs": [],
   "source": [
    "dfnum5years = dfnum5.loc[:,['Year_Built','Year_Remod_Add','Year_Sold']].transform(lambda x: 2010-x)\n",
    "dfnum6 = dfnum5.loc[:,~(dfnum5.columns.isin(['Year_Built','Year_Remod_Add','Year_Sold']))]\n",
    "dfnum7 = pd.concat([dfnum6,dfnum5years],axis=1)"
   ]
  },
  {
   "cell_type": "markdown",
   "metadata": {},
   "source": [
    "# Objective 1 - K-Means Clusterings"
   ]
  },
  {
   "cell_type": "markdown",
   "metadata": {},
   "source": [
    "Removing the Sale_Price data prior to doing K-Means clustering."
   ]
  },
  {
   "cell_type": "code",
   "execution_count": 73,
   "metadata": {},
   "outputs": [],
   "source": [
    "saledata, clusdata = dfnum7.loc[:,(dfnum7.columns.isin(['Sale_Price']))].copy(deep=True), dfnum7.loc[:,~(dfnum7.columns.isin(['Sale_Price']))].copy(deep=True)\n",
    "X = clusdata.to_numpy(copy=True) \n",
    "y = saledata.Sale_Price.to_numpy(copy=True)"
   ]
  },
  {
   "cell_type": "code",
   "execution_count": 74,
   "metadata": {},
   "outputs": [
    {
     "name": "stdout",
     "output_type": "stream",
     "text": [
      "Cluster # = 2 Silhouette Score: 0.7596890425207573 Davies Bouldin Score: 0.6135060409995381 CH Score: 2137.7652707642414\n",
      "Cluster # = 3 Silhouette Score: 0.44068092140725773 Davies Bouldin Score: 0.6810153295064377 CH Score: 3095.83369436093\n",
      "Cluster # = 4 Silhouette Score: 0.43898709713257017 Davies Bouldin Score: 0.6609269910067859 CH Score: 3766.0838919190173\n",
      "Cluster # = 5 Silhouette Score: 0.4261086495071589 Davies Bouldin Score: 0.6715196323838235 CH Score: 4171.011762159904\n",
      "Cluster # = 6 Silhouette Score: 0.38434911330844795 Davies Bouldin Score: 0.7089775898854423 CH Score: 4398.412016066107\n",
      "Cluster # = 7 Silhouette Score: 0.37285486505761395 Davies Bouldin Score: 0.7075606866901936 CH Score: 4467.637553967823\n",
      "Cluster # = 8 Silhouette Score: 0.34489017665400656 Davies Bouldin Score: 0.7612934296933396 CH Score: 4542.201364377202\n",
      "Cluster # = 9 Silhouette Score: 0.30902785493284374 Davies Bouldin Score: 0.8300642080091515 CH Score: 4463.575069416142\n",
      "Cluster # = 10 Silhouette Score: 0.28134695326443954 Davies Bouldin Score: 0.9067347054514396 CH Score: 4294.972845370392\n",
      "Cluster # = 11 Silhouette Score: 0.281296978854271 Davies Bouldin Score: 0.83909371356187 CH Score: 4163.462372764986\n",
      "Cluster # = 12 Silhouette Score: 0.25523085153617997 Davies Bouldin Score: 0.9557223514839208 CH Score: 4023.4061540449716\n"
     ]
    }
   ],
   "source": [
    "for i in range(2,13):\n",
    "    clusters = KMeans(n_clusters=i, random_state=44)\n",
    "    labels = clusters.fit_predict(X)\n",
    "    silhouette_avg = silhouette_score(X, labels)\n",
    "    print(\"Cluster # =\", i,\n",
    "          f\"Silhouette Score: {silhouette_score(X, labels)}\",\n",
    "          f\"Davies Bouldin Score: {davies_bouldin_score(X, labels)}\",\n",
    "          f'CH Score: {calinski_harabasz_score(X, labels)}')"
   ]
  },
  {
   "cell_type": "code",
   "execution_count": 75,
   "metadata": {},
   "outputs": [],
   "source": [
    "clusters = KMeans(n_clusters=4, random_state=40)\n",
    "labels = clusters.fit_predict(X)\n",
    "centers = clusters.cluster_centers_\n",
    "silhouette_avg = silhouette_score(X, labels)\n",
    "sample_silhouette_values = silhouette_samples(X, cluster_labels)"
   ]
  },
  {
   "cell_type": "code",
   "execution_count": 76,
   "metadata": {},
   "outputs": [
    {
     "data": {
      "image/png": "[encoded data removed]",
      "text/plain": [
       "<Figure size 1296x504 with 2 Axes>"
      ]
     },
     "metadata": {},
     "output_type": "display_data"
    }
   ],
   "source": [
    "fig, (ax1, ax2) = plt.subplots(1, 2)\n",
    "fig.set_size_inches(18, 7)\n",
    "ax1.set_title(\"Silhouette plot for cluster size 4.\")\n",
    "ax1.set_xlabel(\"Silhouette coefficient values\")\n",
    "ax1.set_ylabel(\"Cluster label\")\n",
    "ax1.axvline(x=silhouette_avg, color=\"red\", linestyle=\"--\")\n",
    "ax1.set_yticks([])  # Clear the yaxis labels / ticks\n",
    "ax1.set_xticks([-0.1, 0, 0.2, 0.4, 0.6, 0.8, 1])\n",
    "y_lower = 10\n",
    "\n",
    "for i in range(clusters.n_clusters):\n",
    "    # Aggregate the silhouette scores for samples belonging to\n",
    "    # cluster i, and sort them\n",
    "    ith_cluster_silhouette_values = \\\n",
    "        sample_silhouette_values[cluster_labels == i]\n",
    "\n",
    "    ith_cluster_silhouette_values.sort()\n",
    "\n",
    "    size_cluster_i = ith_cluster_silhouette_values.shape[0]\n",
    "    y_upper = y_lower + size_cluster_i\n",
    "\n",
    "    color = cm.gist_stern(float(i) / n_clusters)\n",
    "    ax1.fill_betweenx(np.arange(y_lower, y_upper),\n",
    "                      0, ith_cluster_silhouette_values,\n",
    "                      facecolor=color, edgecolor=color, alpha=0.7)\n",
    "\n",
    "    # Label the silhouette plots with their cluster numbers at the middle\n",
    "    ax1.text(-0.05, y_lower + 0.5 * size_cluster_i, str(i))\n",
    "\n",
    "    # Compute the new y_lower for next plot\n",
    "    y_lower = y_upper + 10  # 10 for the 0 samples\n",
    "\n",
    "colors = cm.gist_stern(labels.astype(float) / 6)\n",
    "ax2.scatter(X[:, 0], X[:, 1], marker='.', s=30, lw=0, alpha=0.7, c=colors, edgecolor='k')\n",
    "ax2.scatter(centers[:, 0], centers[:, 1], marker='o', c=\"white\", alpha=1, s=50, edgecolor='k')\n",
    "plt.show();"
   ]
  },
  {
   "cell_type": "markdown",
   "metadata": {
    "jupyter": {
     "outputs_hidden": true
    }
   },
   "source": [
    "# Objective 2: Rescaling Feature Data"
   ]
  },
  {
   "cell_type": "code",
   "execution_count": 77,
   "metadata": {},
   "outputs": [],
   "source": [
    "X.shape\n",
    "y.shape\n",
    "\n",
    "trainX , testX , trainy , testy = train_test_split(X, y, train_size = 0.85, test_size=0.15, random_state=33)"
   ]
  },
  {
   "cell_type": "code",
   "execution_count": 78,
   "metadata": {},
   "outputs": [],
   "source": [
    "scaler = StandardScaler()\n",
    "scaler.fit(trainX)\n",
    "trainXS = scaler.transform(trainX)\n",
    "testXS = scaler.transform(testX)"
   ]
  },
  {
   "cell_type": "markdown",
   "metadata": {},
   "source": [
    "# Objective 3: PCA"
   ]
  },
  {
   "cell_type": "code",
   "execution_count": 79,
   "metadata": {},
   "outputs": [
    {
     "name": "stdout",
     "output_type": "stream",
     "text": [
      "Number of components required for 75% of total variation: 44\n"
     ]
    }
   ],
   "source": [
    "pca75 = PCA(n_components=0.75, svd_solver='full')\n",
    "pca75.fit(trainX)\n",
    "print(\"Number of components required for 75% of total variation:\", pca75.components_.size)"
   ]
  },
  {
   "cell_type": "code",
   "execution_count": 80,
   "metadata": {},
   "outputs": [
    {
     "data": {
      "text/plain": [
       "(2482, 1)"
      ]
     },
     "execution_count": 80,
     "metadata": {},
     "output_type": "execute_result"
    }
   ],
   "source": [
    "trainXPCA=pca75.transform(trainX)\n",
    "testXPCA=pca75.transform(testX)\n",
    "trainXPCA.shape"
   ]
  },
  {
   "cell_type": "markdown",
   "metadata": {},
   "source": [
    "# Objective 4: Training RF Regressors"
   ]
  },
  {
   "cell_type": "code",
   "execution_count": 86,
   "metadata": {},
   "outputs": [],
   "source": [
    "rfreg = RandomForestRegressor(n_estimators=100, max_features=\"auto\", oob_score=True)\n",
    "rfreg.fit(trainX, trainy)\n",
    "ypred = rfreg.predict(testX)"
   ]
  },
  {
   "cell_type": "markdown",
   "metadata": {},
   "source": [
    "Feature importances, with the higher the score the more important. All values add up to 1. "
   ]
  },
  {
   "cell_type": "code",
   "execution_count": 97,
   "metadata": {},
   "outputs": [
    {
     "data": {
      "text/html": [
       "<div>\n",
       "<style scoped>\n",
       "    .dataframe tbody tr th:only-of-type {\n",
       "        vertical-align: middle;\n",
       "    }\n",
       "\n",
       "    .dataframe tbody tr th {\n",
       "        vertical-align: top;\n",
       "    }\n",
       "\n",
       "    .dataframe thead th {\n",
       "        text-align: right;\n",
       "    }\n",
       "</style>\n",
       "<table border=\"1\" class=\"dataframe\">\n",
       "  <thead>\n",
       "    <tr style=\"text-align: right;\">\n",
       "      <th></th>\n",
       "      <th>Lot_Frontage</th>\n",
       "      <th>Lot_Area</th>\n",
       "      <th>Mas_Vnr_Area</th>\n",
       "      <th>BsmtFin_SF_1</th>\n",
       "      <th>BsmtFin_SF_2</th>\n",
       "      <th>Bsmt_Unf_SF</th>\n",
       "      <th>Total_Bsmt_SF</th>\n",
       "      <th>First_Flr_SF</th>\n",
       "      <th>Second_Flr_SF</th>\n",
       "      <th>Gr_Liv_Area</th>\n",
       "      <th>Bsmt_Full_Bath</th>\n",
       "      <th>Bsmt_Half_Bath</th>\n",
       "      <th>Full_Bath</th>\n",
       "      <th>Half_Bath</th>\n",
       "      <th>Bedroom_AbvGr</th>\n",
       "      <th>Kitchen_AbvGr</th>\n",
       "      <th>TotRms_AbvGrd</th>\n",
       "      <th>Fireplaces</th>\n",
       "      <th>Garage_Cars</th>\n",
       "      <th>Garage_Area</th>\n",
       "      <th>Wood_Deck_SF</th>\n",
       "      <th>Open_Porch_SF</th>\n",
       "      <th>Enclosed_Porch</th>\n",
       "      <th>Three_season_porch</th>\n",
       "      <th>Screen_Porch</th>\n",
       "      <th>Pool_Area</th>\n",
       "      <th>Misc_Val</th>\n",
       "      <th>Longitude</th>\n",
       "      <th>Latitude</th>\n",
       "      <th>Sales_Mo_1</th>\n",
       "      <th>Sales_Mo_2</th>\n",
       "      <th>Sales_Mo_3</th>\n",
       "      <th>Sales_Mo_4</th>\n",
       "      <th>Sales_Mo_5</th>\n",
       "      <th>Sales_Mo_6</th>\n",
       "      <th>Sales_Mo_7</th>\n",
       "      <th>Sales_Mo_8</th>\n",
       "      <th>Sales_Mo_9</th>\n",
       "      <th>Sales_Mo_10</th>\n",
       "      <th>Sales_Mo_11</th>\n",
       "      <th>Sales_Mo_12</th>\n",
       "      <th>Year_Built</th>\n",
       "      <th>Year_Remod_Add</th>\n",
       "      <th>Year_Sold</th>\n",
       "    </tr>\n",
       "  </thead>\n",
       "  <tbody>\n",
       "    <tr>\n",
       "      <th>0</th>\n",
       "      <td>0.004816</td>\n",
       "      <td>0.020068</td>\n",
       "      <td>0.024258</td>\n",
       "      <td>0.004546</td>\n",
       "      <td>0.000925</td>\n",
       "      <td>0.009602</td>\n",
       "      <td>0.07185</td>\n",
       "      <td>0.055573</td>\n",
       "      <td>0.006853</td>\n",
       "      <td>0.155381</td>\n",
       "      <td>0.003059</td>\n",
       "      <td>0.00027</td>\n",
       "      <td>0.001906</td>\n",
       "      <td>0.001357</td>\n",
       "      <td>0.005299</td>\n",
       "      <td>0.001499</td>\n",
       "      <td>0.00488</td>\n",
       "      <td>0.028438</td>\n",
       "      <td>0.272638</td>\n",
       "      <td>0.028963</td>\n",
       "      <td>0.005746</td>\n",
       "      <td>0.00607</td>\n",
       "      <td>0.000838</td>\n",
       "      <td>0.000227</td>\n",
       "      <td>0.002912</td>\n",
       "      <td>0.000055</td>\n",
       "      <td>0.000199</td>\n",
       "      <td>0.010345</td>\n",
       "      <td>0.010353</td>\n",
       "      <td>0.000376</td>\n",
       "      <td>0.000886</td>\n",
       "      <td>0.000425</td>\n",
       "      <td>0.000217</td>\n",
       "      <td>0.0003</td>\n",
       "      <td>0.000471</td>\n",
       "      <td>0.000558</td>\n",
       "      <td>0.000359</td>\n",
       "      <td>0.000367</td>\n",
       "      <td>0.001122</td>\n",
       "      <td>0.000738</td>\n",
       "      <td>0.000449</td>\n",
       "      <td>0.225036</td>\n",
       "      <td>0.027383</td>\n",
       "      <td>0.002384</td>\n",
       "    </tr>\n",
       "  </tbody>\n",
       "</table>\n",
       "</div>"
      ],
      "text/plain": [
       "   Lot_Frontage  Lot_Area  Mas_Vnr_Area  BsmtFin_SF_1  BsmtFin_SF_2  \\\n",
       "0      0.004816  0.020068      0.024258      0.004546      0.000925   \n",
       "\n",
       "   Bsmt_Unf_SF  Total_Bsmt_SF  First_Flr_SF  Second_Flr_SF  Gr_Liv_Area  \\\n",
       "0     0.009602        0.07185      0.055573       0.006853     0.155381   \n",
       "\n",
       "   Bsmt_Full_Bath  Bsmt_Half_Bath  Full_Bath  Half_Bath  Bedroom_AbvGr  \\\n",
       "0        0.003059         0.00027   0.001906   0.001357       0.005299   \n",
       "\n",
       "   Kitchen_AbvGr  TotRms_AbvGrd  Fireplaces  Garage_Cars  Garage_Area  \\\n",
       "0       0.001499        0.00488    0.028438     0.272638     0.028963   \n",
       "\n",
       "   Wood_Deck_SF  Open_Porch_SF  Enclosed_Porch  Three_season_porch  \\\n",
       "0      0.005746        0.00607        0.000838            0.000227   \n",
       "\n",
       "   Screen_Porch  Pool_Area  Misc_Val  Longitude  Latitude  Sales_Mo_1  \\\n",
       "0      0.002912   0.000055  0.000199   0.010345  0.010353    0.000376   \n",
       "\n",
       "   Sales_Mo_2  Sales_Mo_3  Sales_Mo_4  Sales_Mo_5  Sales_Mo_6  Sales_Mo_7  \\\n",
       "0    0.000886    0.000425    0.000217      0.0003    0.000471    0.000558   \n",
       "\n",
       "   Sales_Mo_8  Sales_Mo_9  Sales_Mo_10  Sales_Mo_11  Sales_Mo_12  Year_Built  \\\n",
       "0    0.000359    0.000367     0.001122     0.000738     0.000449    0.225036   \n",
       "\n",
       "   Year_Remod_Add  Year_Sold  \n",
       "0        0.027383   0.002384  "
      ]
     },
     "execution_count": 97,
     "metadata": {},
     "output_type": "execute_result"
    }
   ],
   "source": [
    "pd.DataFrame([rfreg.feature_importances_], columns=clusdata.columns)"
   ]
  },
  {
   "cell_type": "code",
   "execution_count": 90,
   "metadata": {},
   "outputs": [
    {
     "data": {
      "text/html": [
       "<div>\n",
       "<style scoped>\n",
       "    .dataframe tbody tr th:only-of-type {\n",
       "        vertical-align: middle;\n",
       "    }\n",
       "\n",
       "    .dataframe tbody tr th {\n",
       "        vertical-align: top;\n",
       "    }\n",
       "\n",
       "    .dataframe thead th {\n",
       "        text-align: right;\n",
       "    }\n",
       "</style>\n",
       "<table border=\"1\" class=\"dataframe\">\n",
       "  <thead>\n",
       "    <tr style=\"text-align: right;\">\n",
       "      <th></th>\n",
       "      <th>Pred</th>\n",
       "      <th>Actual</th>\n",
       "    </tr>\n",
       "  </thead>\n",
       "  <tbody>\n",
       "    <tr>\n",
       "      <th>0</th>\n",
       "      <td>177971.53</td>\n",
       "      <td>215000</td>\n",
       "    </tr>\n",
       "    <tr>\n",
       "      <th>1</th>\n",
       "      <td>116927.00</td>\n",
       "      <td>116500</td>\n",
       "    </tr>\n",
       "    <tr>\n",
       "      <th>2</th>\n",
       "      <td>139839.48</td>\n",
       "      <td>160000</td>\n",
       "    </tr>\n",
       "    <tr>\n",
       "      <th>3</th>\n",
       "      <td>234250.60</td>\n",
       "      <td>239500</td>\n",
       "    </tr>\n",
       "    <tr>\n",
       "      <th>4</th>\n",
       "      <td>239348.67</td>\n",
       "      <td>218836</td>\n",
       "    </tr>\n",
       "    <tr>\n",
       "      <th>...</th>\n",
       "      <td>...</td>\n",
       "      <td>...</td>\n",
       "    </tr>\n",
       "    <tr>\n",
       "      <th>433</th>\n",
       "      <td>138582.80</td>\n",
       "      <td>133000</td>\n",
       "    </tr>\n",
       "    <tr>\n",
       "      <th>434</th>\n",
       "      <td>436376.10</td>\n",
       "      <td>342000</td>\n",
       "    </tr>\n",
       "    <tr>\n",
       "      <th>435</th>\n",
       "      <td>124420.16</td>\n",
       "      <td>93369</td>\n",
       "    </tr>\n",
       "    <tr>\n",
       "      <th>436</th>\n",
       "      <td>119566.81</td>\n",
       "      <td>94000</td>\n",
       "    </tr>\n",
       "    <tr>\n",
       "      <th>437</th>\n",
       "      <td>187839.81</td>\n",
       "      <td>183500</td>\n",
       "    </tr>\n",
       "  </tbody>\n",
       "</table>\n",
       "<p>438 rows × 2 columns</p>\n",
       "</div>"
      ],
      "text/plain": [
       "          Pred  Actual\n",
       "0    177971.53  215000\n",
       "1    116927.00  116500\n",
       "2    139839.48  160000\n",
       "3    234250.60  239500\n",
       "4    239348.67  218836\n",
       "..         ...     ...\n",
       "433  138582.80  133000\n",
       "434  436376.10  342000\n",
       "435  124420.16   93369\n",
       "436  119566.81   94000\n",
       "437  187839.81  183500\n",
       "\n",
       "[438 rows x 2 columns]"
      ]
     },
     "execution_count": 90,
     "metadata": {},
     "output_type": "execute_result"
    }
   ],
   "source": [
    "pd.DataFrame({'Pred':ypred, 'Actual':testy}, columns=['Pred','Actual'])"
   ]
  },
  {
   "cell_type": "code",
   "execution_count": 104,
   "metadata": {},
   "outputs": [
    {
     "data": {
      "text/plain": [
       "23616.041007035514"
      ]
     },
     "execution_count": 104,
     "metadata": {},
     "output_type": "execute_result"
    }
   ],
   "source": [
    "mse = mean_squared_error(testy,ypred)\n",
    "rmse = np.sqrt(mse)\n",
    "rmse"
   ]
  },
  {
   "cell_type": "markdown",
   "metadata": {},
   "source": [
    "Training using trainXS and predicting using testXS."
   ]
  },
  {
   "cell_type": "code",
   "execution_count": 105,
   "metadata": {},
   "outputs": [],
   "source": [
    "rfreg = RandomForestRegressor(n_estimators=100, max_features=\"auto\", oob_score=True)\n",
    "rfreg.fit(trainXS, trainy)\n",
    "ypred = rfreg.predict(testXS)"
   ]
  },
  {
   "cell_type": "code",
   "execution_count": 106,
   "metadata": {},
   "outputs": [
    {
     "data": {
      "text/html": [
       "<div>\n",
       "<style scoped>\n",
       "    .dataframe tbody tr th:only-of-type {\n",
       "        vertical-align: middle;\n",
       "    }\n",
       "\n",
       "    .dataframe tbody tr th {\n",
       "        vertical-align: top;\n",
       "    }\n",
       "\n",
       "    .dataframe thead th {\n",
       "        text-align: right;\n",
       "    }\n",
       "</style>\n",
       "<table border=\"1\" class=\"dataframe\">\n",
       "  <thead>\n",
       "    <tr style=\"text-align: right;\">\n",
       "      <th></th>\n",
       "      <th>Lot_Frontage</th>\n",
       "      <th>Lot_Area</th>\n",
       "      <th>Mas_Vnr_Area</th>\n",
       "      <th>BsmtFin_SF_1</th>\n",
       "      <th>BsmtFin_SF_2</th>\n",
       "      <th>Bsmt_Unf_SF</th>\n",
       "      <th>Total_Bsmt_SF</th>\n",
       "      <th>First_Flr_SF</th>\n",
       "      <th>Second_Flr_SF</th>\n",
       "      <th>Gr_Liv_Area</th>\n",
       "      <th>Bsmt_Full_Bath</th>\n",
       "      <th>Bsmt_Half_Bath</th>\n",
       "      <th>Full_Bath</th>\n",
       "      <th>Half_Bath</th>\n",
       "      <th>Bedroom_AbvGr</th>\n",
       "      <th>Kitchen_AbvGr</th>\n",
       "      <th>TotRms_AbvGrd</th>\n",
       "      <th>Fireplaces</th>\n",
       "      <th>Garage_Cars</th>\n",
       "      <th>Garage_Area</th>\n",
       "      <th>Wood_Deck_SF</th>\n",
       "      <th>Open_Porch_SF</th>\n",
       "      <th>Enclosed_Porch</th>\n",
       "      <th>Three_season_porch</th>\n",
       "      <th>Screen_Porch</th>\n",
       "      <th>Pool_Area</th>\n",
       "      <th>Misc_Val</th>\n",
       "      <th>Longitude</th>\n",
       "      <th>Latitude</th>\n",
       "      <th>Sales_Mo_1</th>\n",
       "      <th>Sales_Mo_2</th>\n",
       "      <th>Sales_Mo_3</th>\n",
       "      <th>Sales_Mo_4</th>\n",
       "      <th>Sales_Mo_5</th>\n",
       "      <th>Sales_Mo_6</th>\n",
       "      <th>Sales_Mo_7</th>\n",
       "      <th>Sales_Mo_8</th>\n",
       "      <th>Sales_Mo_9</th>\n",
       "      <th>Sales_Mo_10</th>\n",
       "      <th>Sales_Mo_11</th>\n",
       "      <th>Sales_Mo_12</th>\n",
       "      <th>Year_Built</th>\n",
       "      <th>Year_Remod_Add</th>\n",
       "      <th>Year_Sold</th>\n",
       "    </tr>\n",
       "  </thead>\n",
       "  <tbody>\n",
       "    <tr>\n",
       "      <th>0</th>\n",
       "      <td>0.005282</td>\n",
       "      <td>0.02058</td>\n",
       "      <td>0.029384</td>\n",
       "      <td>0.003285</td>\n",
       "      <td>0.000801</td>\n",
       "      <td>0.010014</td>\n",
       "      <td>0.07136</td>\n",
       "      <td>0.060397</td>\n",
       "      <td>0.006844</td>\n",
       "      <td>0.160285</td>\n",
       "      <td>0.003336</td>\n",
       "      <td>0.000256</td>\n",
       "      <td>0.001762</td>\n",
       "      <td>0.001076</td>\n",
       "      <td>0.004613</td>\n",
       "      <td>0.002022</td>\n",
       "      <td>0.005786</td>\n",
       "      <td>0.024101</td>\n",
       "      <td>0.270675</td>\n",
       "      <td>0.023937</td>\n",
       "      <td>0.005778</td>\n",
       "      <td>0.005881</td>\n",
       "      <td>0.001087</td>\n",
       "      <td>0.000123</td>\n",
       "      <td>0.002284</td>\n",
       "      <td>0.000162</td>\n",
       "      <td>0.000276</td>\n",
       "      <td>0.009315</td>\n",
       "      <td>0.010988</td>\n",
       "      <td>0.000293</td>\n",
       "      <td>0.001255</td>\n",
       "      <td>0.000379</td>\n",
       "      <td>0.000245</td>\n",
       "      <td>0.000374</td>\n",
       "      <td>0.000735</td>\n",
       "      <td>0.000486</td>\n",
       "      <td>0.000417</td>\n",
       "      <td>0.00041</td>\n",
       "      <td>0.000935</td>\n",
       "      <td>0.000556</td>\n",
       "      <td>0.000413</td>\n",
       "      <td>0.219899</td>\n",
       "      <td>0.029831</td>\n",
       "      <td>0.002083</td>\n",
       "    </tr>\n",
       "  </tbody>\n",
       "</table>\n",
       "</div>"
      ],
      "text/plain": [
       "   Lot_Frontage  Lot_Area  Mas_Vnr_Area  BsmtFin_SF_1  BsmtFin_SF_2  \\\n",
       "0      0.005282   0.02058      0.029384      0.003285      0.000801   \n",
       "\n",
       "   Bsmt_Unf_SF  Total_Bsmt_SF  First_Flr_SF  Second_Flr_SF  Gr_Liv_Area  \\\n",
       "0     0.010014        0.07136      0.060397       0.006844     0.160285   \n",
       "\n",
       "   Bsmt_Full_Bath  Bsmt_Half_Bath  Full_Bath  Half_Bath  Bedroom_AbvGr  \\\n",
       "0        0.003336        0.000256   0.001762   0.001076       0.004613   \n",
       "\n",
       "   Kitchen_AbvGr  TotRms_AbvGrd  Fireplaces  Garage_Cars  Garage_Area  \\\n",
       "0       0.002022       0.005786    0.024101     0.270675     0.023937   \n",
       "\n",
       "   Wood_Deck_SF  Open_Porch_SF  Enclosed_Porch  Three_season_porch  \\\n",
       "0      0.005778       0.005881        0.001087            0.000123   \n",
       "\n",
       "   Screen_Porch  Pool_Area  Misc_Val  Longitude  Latitude  Sales_Mo_1  \\\n",
       "0      0.002284   0.000162  0.000276   0.009315  0.010988    0.000293   \n",
       "\n",
       "   Sales_Mo_2  Sales_Mo_3  Sales_Mo_4  Sales_Mo_5  Sales_Mo_6  Sales_Mo_7  \\\n",
       "0    0.001255    0.000379    0.000245    0.000374    0.000735    0.000486   \n",
       "\n",
       "   Sales_Mo_8  Sales_Mo_9  Sales_Mo_10  Sales_Mo_11  Sales_Mo_12  Year_Built  \\\n",
       "0    0.000417     0.00041     0.000935     0.000556     0.000413    0.219899   \n",
       "\n",
       "   Year_Remod_Add  Year_Sold  \n",
       "0        0.029831   0.002083  "
      ]
     },
     "execution_count": 106,
     "metadata": {},
     "output_type": "execute_result"
    }
   ],
   "source": [
    "pd.DataFrame([rfreg.feature_importances_], columns=clusdata.columns)"
   ]
  },
  {
   "cell_type": "code",
   "execution_count": 108,
   "metadata": {},
   "outputs": [
    {
     "data": {
      "text/html": [
       "<div>\n",
       "<style scoped>\n",
       "    .dataframe tbody tr th:only-of-type {\n",
       "        vertical-align: middle;\n",
       "    }\n",
       "\n",
       "    .dataframe tbody tr th {\n",
       "        vertical-align: top;\n",
       "    }\n",
       "\n",
       "    .dataframe thead th {\n",
       "        text-align: right;\n",
       "    }\n",
       "</style>\n",
       "<table border=\"1\" class=\"dataframe\">\n",
       "  <thead>\n",
       "    <tr style=\"text-align: right;\">\n",
       "      <th></th>\n",
       "      <th>Pred</th>\n",
       "      <th>Actual</th>\n",
       "    </tr>\n",
       "  </thead>\n",
       "  <tbody>\n",
       "    <tr>\n",
       "      <th>0</th>\n",
       "      <td>182841.03</td>\n",
       "      <td>215000</td>\n",
       "    </tr>\n",
       "    <tr>\n",
       "      <th>1</th>\n",
       "      <td>115449.60</td>\n",
       "      <td>116500</td>\n",
       "    </tr>\n",
       "    <tr>\n",
       "      <th>2</th>\n",
       "      <td>141428.21</td>\n",
       "      <td>160000</td>\n",
       "    </tr>\n",
       "    <tr>\n",
       "      <th>3</th>\n",
       "      <td>230857.65</td>\n",
       "      <td>239500</td>\n",
       "    </tr>\n",
       "    <tr>\n",
       "      <th>4</th>\n",
       "      <td>235892.95</td>\n",
       "      <td>218836</td>\n",
       "    </tr>\n",
       "    <tr>\n",
       "      <th>...</th>\n",
       "      <td>...</td>\n",
       "      <td>...</td>\n",
       "    </tr>\n",
       "    <tr>\n",
       "      <th>433</th>\n",
       "      <td>139182.49</td>\n",
       "      <td>133000</td>\n",
       "    </tr>\n",
       "    <tr>\n",
       "      <th>434</th>\n",
       "      <td>440158.94</td>\n",
       "      <td>342000</td>\n",
       "    </tr>\n",
       "    <tr>\n",
       "      <th>435</th>\n",
       "      <td>120893.51</td>\n",
       "      <td>93369</td>\n",
       "    </tr>\n",
       "    <tr>\n",
       "      <th>436</th>\n",
       "      <td>120360.88</td>\n",
       "      <td>94000</td>\n",
       "    </tr>\n",
       "    <tr>\n",
       "      <th>437</th>\n",
       "      <td>186594.04</td>\n",
       "      <td>183500</td>\n",
       "    </tr>\n",
       "  </tbody>\n",
       "</table>\n",
       "<p>438 rows × 2 columns</p>\n",
       "</div>"
      ],
      "text/plain": [
       "          Pred  Actual\n",
       "0    182841.03  215000\n",
       "1    115449.60  116500\n",
       "2    141428.21  160000\n",
       "3    230857.65  239500\n",
       "4    235892.95  218836\n",
       "..         ...     ...\n",
       "433  139182.49  133000\n",
       "434  440158.94  342000\n",
       "435  120893.51   93369\n",
       "436  120360.88   94000\n",
       "437  186594.04  183500\n",
       "\n",
       "[438 rows x 2 columns]"
      ]
     },
     "execution_count": 108,
     "metadata": {},
     "output_type": "execute_result"
    }
   ],
   "source": [
    "pd.DataFrame({'Pred':ypred, 'Actual':testy}, columns=['Pred','Actual'])"
   ]
  },
  {
   "cell_type": "code",
   "execution_count": 109,
   "metadata": {},
   "outputs": [
    {
     "data": {
      "text/plain": [
       "23547.902725207863"
      ]
     },
     "execution_count": 109,
     "metadata": {},
     "output_type": "execute_result"
    }
   ],
   "source": [
    "mse = mean_squared_error(testy,ypred)\n",
    "rmse = np.sqrt(mse)\n",
    "rmse"
   ]
  },
  {
   "cell_type": "markdown",
   "metadata": {},
   "source": [
    "Changing number of trees to 200 and max features to log2. RMSE continues to drop with refinement."
   ]
  },
  {
   "cell_type": "code",
   "execution_count": 121,
   "metadata": {},
   "outputs": [],
   "source": [
    "rfreg = RandomForestRegressor(n_estimators=200, max_features=\"log2\", oob_score=True)\n",
    "rfreg.fit(trainXS, trainy)\n",
    "ypred = rfreg.predict(testXS)"
   ]
  },
  {
   "cell_type": "code",
   "execution_count": 122,
   "metadata": {},
   "outputs": [],
   "source": [
    "out = pd.DataFrame({'Pred':ypred, 'Actual':testy}, columns=['Pred','Actual'])"
   ]
  },
  {
   "cell_type": "code",
   "execution_count": 123,
   "metadata": {},
   "outputs": [
    {
     "data": {
      "text/html": [
       "<div>\n",
       "<style scoped>\n",
       "    .dataframe tbody tr th:only-of-type {\n",
       "        vertical-align: middle;\n",
       "    }\n",
       "\n",
       "    .dataframe tbody tr th {\n",
       "        vertical-align: top;\n",
       "    }\n",
       "\n",
       "    .dataframe thead th {\n",
       "        text-align: right;\n",
       "    }\n",
       "</style>\n",
       "<table border=\"1\" class=\"dataframe\">\n",
       "  <thead>\n",
       "    <tr style=\"text-align: right;\">\n",
       "      <th></th>\n",
       "      <th>Pred</th>\n",
       "      <th>Actual</th>\n",
       "    </tr>\n",
       "  </thead>\n",
       "  <tbody>\n",
       "    <tr>\n",
       "      <th>count</th>\n",
       "      <td>438.000000</td>\n",
       "      <td>438.000000</td>\n",
       "    </tr>\n",
       "    <tr>\n",
       "      <th>mean</th>\n",
       "      <td>180192.399863</td>\n",
       "      <td>179918.945205</td>\n",
       "    </tr>\n",
       "    <tr>\n",
       "      <th>std</th>\n",
       "      <td>70704.719685</td>\n",
       "      <td>79048.640115</td>\n",
       "    </tr>\n",
       "    <tr>\n",
       "      <th>min</th>\n",
       "      <td>64544.290000</td>\n",
       "      <td>34900.000000</td>\n",
       "    </tr>\n",
       "    <tr>\n",
       "      <th>25%</th>\n",
       "      <td>130575.600000</td>\n",
       "      <td>129000.000000</td>\n",
       "    </tr>\n",
       "    <tr>\n",
       "      <th>50%</th>\n",
       "      <td>161791.980000</td>\n",
       "      <td>159450.000000</td>\n",
       "    </tr>\n",
       "    <tr>\n",
       "      <th>75%</th>\n",
       "      <td>211334.966250</td>\n",
       "      <td>213750.000000</td>\n",
       "    </tr>\n",
       "    <tr>\n",
       "      <th>max</th>\n",
       "      <td>464181.140000</td>\n",
       "      <td>591587.000000</td>\n",
       "    </tr>\n",
       "  </tbody>\n",
       "</table>\n",
       "</div>"
      ],
      "text/plain": [
       "                Pred         Actual\n",
       "count     438.000000     438.000000\n",
       "mean   180192.399863  179918.945205\n",
       "std     70704.719685   79048.640115\n",
       "min     64544.290000   34900.000000\n",
       "25%    130575.600000  129000.000000\n",
       "50%    161791.980000  159450.000000\n",
       "75%    211334.966250  213750.000000\n",
       "max    464181.140000  591587.000000"
      ]
     },
     "execution_count": 123,
     "metadata": {},
     "output_type": "execute_result"
    }
   ],
   "source": [
    "out.describe()"
   ]
  },
  {
   "cell_type": "code",
   "execution_count": 124,
   "metadata": {},
   "outputs": [
    {
     "data": {
      "text/plain": [
       "23387.502652419087"
      ]
     },
     "execution_count": 124,
     "metadata": {},
     "output_type": "execute_result"
    }
   ],
   "source": [
    "mse = mean_squared_error(testy,ypred)\n",
    "rmse = np.sqrt(mse)\n",
    "rmse"
   ]
  },
  {
   "cell_type": "markdown",
   "metadata": {},
   "source": [
    "# Objective 5: Boosted Regression Models"
   ]
  },
  {
   "cell_type": "markdown",
   "metadata": {},
   "source": [
    "Running a quick GridSearch to determine best number of learners and the learning rate. "
   ]
  },
  {
   "cell_type": "code",
   "execution_count": 132,
   "metadata": {},
   "outputs": [
    {
     "data": {
      "text/plain": [
       "GridSearchCV(estimator=AdaBoostRegressor(),\n",
       "             param_grid={'learning_rate': [0.25, 0.5, 0.75, 1],\n",
       "                         'n_estimators': [50, 100, 150, 200]})"
      ]
     },
     "execution_count": 132,
     "metadata": {},
     "output_type": "execute_result"
    }
   ],
   "source": [
    "parms = {'n_estimators': [50,100,150,200],'learning_rate':[.25,.50,.75,1]}\n",
    "adaregr = AdaBoostRegressor()\n",
    "adaParmCV = GridSearchCV(adaregr,parms)\n",
    "adaParmCV"
   ]
  },
  {
   "cell_type": "code",
   "execution_count": 133,
   "metadata": {},
   "outputs": [
    {
     "data": {
      "text/plain": [
       "{'learning_rate': 0.5, 'n_estimators': 50}"
      ]
     },
     "execution_count": 133,
     "metadata": {},
     "output_type": "execute_result"
    }
   ],
   "source": [
    "adaParmFit = adaParmCV.fit(trainX,trainy)\n",
    "adaParmFit.best_params_"
   ]
  },
  {
   "cell_type": "markdown",
   "metadata": {},
   "source": [
    "Identifying ideal parameters from GridSearch."
   ]
  },
  {
   "cell_type": "code",
   "execution_count": 172,
   "metadata": {},
   "outputs": [],
   "source": [
    "adaregr = AdaBoostRegressor(n_estimators=50,learning_rate=.5)\n",
    "adakfold = cross_validate(clone(adaregr),trainX, trainy, cv=10, return_train_score=True,\n",
    "                       scoring=('r2', 'neg_root_mean_squared_error'))"
   ]
  },
  {
   "cell_type": "code",
   "execution_count": 173,
   "metadata": {},
   "outputs": [
    {
     "name": "stdout",
     "output_type": "stream",
     "text": [
      "Fold summary stats:\n"
     ]
    },
    {
     "data": {
      "text/html": [
       "<div>\n",
       "<style scoped>\n",
       "    .dataframe tbody tr th:only-of-type {\n",
       "        vertical-align: middle;\n",
       "    }\n",
       "\n",
       "    .dataframe tbody tr th {\n",
       "        vertical-align: top;\n",
       "    }\n",
       "\n",
       "    .dataframe thead th {\n",
       "        text-align: right;\n",
       "    }\n",
       "</style>\n",
       "<table border=\"1\" class=\"dataframe\">\n",
       "  <thead>\n",
       "    <tr style=\"text-align: right;\">\n",
       "      <th></th>\n",
       "      <th>test_r2</th>\n",
       "      <th>train_r2</th>\n",
       "      <th>test_neg_root_mean_squared_error</th>\n",
       "      <th>train_neg_root_mean_squared_error</th>\n",
       "    </tr>\n",
       "  </thead>\n",
       "  <tbody>\n",
       "    <tr>\n",
       "      <th>count</th>\n",
       "      <td>10.000000</td>\n",
       "      <td>10.000000</td>\n",
       "      <td>10.000000</td>\n",
       "      <td>10.000000</td>\n",
       "    </tr>\n",
       "    <tr>\n",
       "      <th>mean</th>\n",
       "      <td>0.808369</td>\n",
       "      <td>0.850225</td>\n",
       "      <td>-33874.711491</td>\n",
       "      <td>-30328.997202</td>\n",
       "    </tr>\n",
       "    <tr>\n",
       "      <th>std</th>\n",
       "      <td>0.038165</td>\n",
       "      <td>0.003582</td>\n",
       "      <td>2437.013038</td>\n",
       "      <td>358.281437</td>\n",
       "    </tr>\n",
       "    <tr>\n",
       "      <th>min</th>\n",
       "      <td>0.741504</td>\n",
       "      <td>0.843708</td>\n",
       "      <td>-38463.144804</td>\n",
       "      <td>-31082.157144</td>\n",
       "    </tr>\n",
       "    <tr>\n",
       "      <th>25%</th>\n",
       "      <td>0.790078</td>\n",
       "      <td>0.848889</td>\n",
       "      <td>-34886.259959</td>\n",
       "      <td>-30509.297587</td>\n",
       "    </tr>\n",
       "    <tr>\n",
       "      <th>50%</th>\n",
       "      <td>0.815269</td>\n",
       "      <td>0.850109</td>\n",
       "      <td>-34239.387502</td>\n",
       "      <td>-30233.735371</td>\n",
       "    </tr>\n",
       "    <tr>\n",
       "      <th>75%</th>\n",
       "      <td>0.835527</td>\n",
       "      <td>0.852942</td>\n",
       "      <td>-32952.580387</td>\n",
       "      <td>-30095.337112</td>\n",
       "    </tr>\n",
       "    <tr>\n",
       "      <th>max</th>\n",
       "      <td>0.854681</td>\n",
       "      <td>0.855126</td>\n",
       "      <td>-29452.629658</td>\n",
       "      <td>-29868.615064</td>\n",
       "    </tr>\n",
       "  </tbody>\n",
       "</table>\n",
       "</div>"
      ],
      "text/plain": [
       "         test_r2   train_r2  test_neg_root_mean_squared_error  \\\n",
       "count  10.000000  10.000000                         10.000000   \n",
       "mean    0.808369   0.850225                     -33874.711491   \n",
       "std     0.038165   0.003582                       2437.013038   \n",
       "min     0.741504   0.843708                     -38463.144804   \n",
       "25%     0.790078   0.848889                     -34886.259959   \n",
       "50%     0.815269   0.850109                     -34239.387502   \n",
       "75%     0.835527   0.852942                     -32952.580387   \n",
       "max     0.854681   0.855126                     -29452.629658   \n",
       "\n",
       "       train_neg_root_mean_squared_error  \n",
       "count                          10.000000  \n",
       "mean                       -30328.997202  \n",
       "std                           358.281437  \n",
       "min                        -31082.157144  \n",
       "25%                        -30509.297587  \n",
       "50%                        -30233.735371  \n",
       "75%                        -30095.337112  \n",
       "max                        -29868.615064  "
      ]
     },
     "execution_count": 173,
     "metadata": {},
     "output_type": "execute_result"
    }
   ],
   "source": [
    "print('Fold summary stats:')\n",
    "pd.DataFrame(adakfold).iloc[:,2:].describe()"
   ]
  },
  {
   "cell_type": "markdown",
   "metadata": {},
   "source": [
    "Reviewing validation of assignment hyperparmeter recommendations."
   ]
  },
  {
   "cell_type": "code",
   "execution_count": 168,
   "metadata": {},
   "outputs": [],
   "source": [
    "adaregr2 = AdaBoostRegressor(n_estimators=100)\n",
    "adakfold2 = cross_validate(clone(adaregr2),trainX, trainy, cv=10, return_train_score=True,\n",
    "                       scoring=('r2', 'neg_root_mean_squared_error'))"
   ]
  },
  {
   "cell_type": "code",
   "execution_count": 171,
   "metadata": {},
   "outputs": [
    {
     "name": "stdout",
     "output_type": "stream",
     "text": [
      "Fold summary stats:\n"
     ]
    },
    {
     "data": {
      "text/html": [
       "<div>\n",
       "<style scoped>\n",
       "    .dataframe tbody tr th:only-of-type {\n",
       "        vertical-align: middle;\n",
       "    }\n",
       "\n",
       "    .dataframe tbody tr th {\n",
       "        vertical-align: top;\n",
       "    }\n",
       "\n",
       "    .dataframe thead th {\n",
       "        text-align: right;\n",
       "    }\n",
       "</style>\n",
       "<table border=\"1\" class=\"dataframe\">\n",
       "  <thead>\n",
       "    <tr style=\"text-align: right;\">\n",
       "      <th></th>\n",
       "      <th>test_r2</th>\n",
       "      <th>train_r2</th>\n",
       "      <th>test_neg_root_mean_squared_error</th>\n",
       "      <th>train_neg_root_mean_squared_error</th>\n",
       "    </tr>\n",
       "  </thead>\n",
       "  <tbody>\n",
       "    <tr>\n",
       "      <th>count</th>\n",
       "      <td>10.000000</td>\n",
       "      <td>10.000000</td>\n",
       "      <td>10.000000</td>\n",
       "      <td>10.000000</td>\n",
       "    </tr>\n",
       "    <tr>\n",
       "      <th>mean</th>\n",
       "      <td>0.800914</td>\n",
       "      <td>0.843070</td>\n",
       "      <td>-34573.286355</td>\n",
       "      <td>-31040.766347</td>\n",
       "    </tr>\n",
       "    <tr>\n",
       "      <th>std</th>\n",
       "      <td>0.033446</td>\n",
       "      <td>0.005935</td>\n",
       "      <td>1773.390170</td>\n",
       "      <td>523.673012</td>\n",
       "    </tr>\n",
       "    <tr>\n",
       "      <th>min</th>\n",
       "      <td>0.745950</td>\n",
       "      <td>0.835826</td>\n",
       "      <td>-37576.785046</td>\n",
       "      <td>-31561.398855</td>\n",
       "    </tr>\n",
       "    <tr>\n",
       "      <th>25%</th>\n",
       "      <td>0.783239</td>\n",
       "      <td>0.839679</td>\n",
       "      <td>-35530.650743</td>\n",
       "      <td>-31409.077651</td>\n",
       "    </tr>\n",
       "    <tr>\n",
       "      <th>50%</th>\n",
       "      <td>0.807756</td>\n",
       "      <td>0.841204</td>\n",
       "      <td>-34470.243752</td>\n",
       "      <td>-31212.110726</td>\n",
       "    </tr>\n",
       "    <tr>\n",
       "      <th>75%</th>\n",
       "      <td>0.825744</td>\n",
       "      <td>0.844557</td>\n",
       "      <td>-34245.707427</td>\n",
       "      <td>-30980.740561</td>\n",
       "    </tr>\n",
       "    <tr>\n",
       "      <th>max</th>\n",
       "      <td>0.842672</td>\n",
       "      <td>0.853632</td>\n",
       "      <td>-30800.110881</td>\n",
       "      <td>-30099.203615</td>\n",
       "    </tr>\n",
       "  </tbody>\n",
       "</table>\n",
       "</div>"
      ],
      "text/plain": [
       "         test_r2   train_r2  test_neg_root_mean_squared_error  \\\n",
       "count  10.000000  10.000000                         10.000000   \n",
       "mean    0.800914   0.843070                     -34573.286355   \n",
       "std     0.033446   0.005935                       1773.390170   \n",
       "min     0.745950   0.835826                     -37576.785046   \n",
       "25%     0.783239   0.839679                     -35530.650743   \n",
       "50%     0.807756   0.841204                     -34470.243752   \n",
       "75%     0.825744   0.844557                     -34245.707427   \n",
       "max     0.842672   0.853632                     -30800.110881   \n",
       "\n",
       "       train_neg_root_mean_squared_error  \n",
       "count                          10.000000  \n",
       "mean                       -31040.766347  \n",
       "std                           523.673012  \n",
       "min                        -31561.398855  \n",
       "25%                        -31409.077651  \n",
       "50%                        -31212.110726  \n",
       "75%                        -30980.740561  \n",
       "max                        -30099.203615  "
      ]
     },
     "execution_count": 171,
     "metadata": {},
     "output_type": "execute_result"
    }
   ],
   "source": [
    "print('Fold summary stats:')\n",
    "pd.DataFrame(adakfold2).iloc[:,2:].describe()"
   ]
  },
  {
   "cell_type": "markdown",
   "metadata": {},
   "source": [
    "Fitting and training the initial adaregr model."
   ]
  },
  {
   "cell_type": "code",
   "execution_count": 194,
   "metadata": {},
   "outputs": [],
   "source": [
    "adaregr = AdaBoostRegressor(n_estimators=50,learning_rate=.5)\n",
    "adaregr.fit(trainX,trainy)\n",
    "ypred = adaregr.predict(testX)"
   ]
  },
  {
   "cell_type": "code",
   "execution_count": 195,
   "metadata": {},
   "outputs": [
    {
     "data": {
      "text/plain": [
       "0.8481847038338405"
      ]
     },
     "execution_count": 195,
     "metadata": {},
     "output_type": "execute_result"
    }
   ],
   "source": [
    "adaregr.score(trainX,trainy)"
   ]
  },
  {
   "cell_type": "code",
   "execution_count": 182,
   "metadata": {},
   "outputs": [
    {
     "data": {
      "text/html": [
       "<div>\n",
       "<style scoped>\n",
       "    .dataframe tbody tr th:only-of-type {\n",
       "        vertical-align: middle;\n",
       "    }\n",
       "\n",
       "    .dataframe tbody tr th {\n",
       "        vertical-align: top;\n",
       "    }\n",
       "\n",
       "    .dataframe thead th {\n",
       "        text-align: right;\n",
       "    }\n",
       "</style>\n",
       "<table border=\"1\" class=\"dataframe\">\n",
       "  <thead>\n",
       "    <tr style=\"text-align: right;\">\n",
       "      <th></th>\n",
       "      <th>Lot_Frontage</th>\n",
       "      <th>Lot_Area</th>\n",
       "      <th>Mas_Vnr_Area</th>\n",
       "      <th>BsmtFin_SF_1</th>\n",
       "      <th>BsmtFin_SF_2</th>\n",
       "      <th>Bsmt_Unf_SF</th>\n",
       "      <th>Total_Bsmt_SF</th>\n",
       "      <th>First_Flr_SF</th>\n",
       "      <th>Second_Flr_SF</th>\n",
       "      <th>Gr_Liv_Area</th>\n",
       "      <th>Bsmt_Full_Bath</th>\n",
       "      <th>Bsmt_Half_Bath</th>\n",
       "      <th>Full_Bath</th>\n",
       "      <th>Half_Bath</th>\n",
       "      <th>Bedroom_AbvGr</th>\n",
       "      <th>Kitchen_AbvGr</th>\n",
       "      <th>TotRms_AbvGrd</th>\n",
       "      <th>Fireplaces</th>\n",
       "      <th>Garage_Cars</th>\n",
       "      <th>Garage_Area</th>\n",
       "      <th>Wood_Deck_SF</th>\n",
       "      <th>Open_Porch_SF</th>\n",
       "      <th>Enclosed_Porch</th>\n",
       "      <th>Three_season_porch</th>\n",
       "      <th>Screen_Porch</th>\n",
       "      <th>Pool_Area</th>\n",
       "      <th>Misc_Val</th>\n",
       "      <th>Longitude</th>\n",
       "      <th>Latitude</th>\n",
       "      <th>Sales_Mo_1</th>\n",
       "      <th>Sales_Mo_2</th>\n",
       "      <th>Sales_Mo_3</th>\n",
       "      <th>Sales_Mo_4</th>\n",
       "      <th>Sales_Mo_5</th>\n",
       "      <th>Sales_Mo_6</th>\n",
       "      <th>Sales_Mo_7</th>\n",
       "      <th>Sales_Mo_8</th>\n",
       "      <th>Sales_Mo_9</th>\n",
       "      <th>Sales_Mo_10</th>\n",
       "      <th>Sales_Mo_11</th>\n",
       "      <th>Sales_Mo_12</th>\n",
       "      <th>Year_Built</th>\n",
       "      <th>Year_Remod_Add</th>\n",
       "      <th>Year_Sold</th>\n",
       "    </tr>\n",
       "  </thead>\n",
       "  <tbody>\n",
       "    <tr>\n",
       "      <th>0</th>\n",
       "      <td>0.022046</td>\n",
       "      <td>0.02514</td>\n",
       "      <td>0.05173</td>\n",
       "      <td>0.00012</td>\n",
       "      <td>0.0</td>\n",
       "      <td>0.010666</td>\n",
       "      <td>0.149573</td>\n",
       "      <td>0.041615</td>\n",
       "      <td>0.007182</td>\n",
       "      <td>0.308596</td>\n",
       "      <td>0.004272</td>\n",
       "      <td>0.0</td>\n",
       "      <td>0.0</td>\n",
       "      <td>0.006114</td>\n",
       "      <td>0.000719</td>\n",
       "      <td>0.0</td>\n",
       "      <td>0.008397</td>\n",
       "      <td>0.012991</td>\n",
       "      <td>0.135134</td>\n",
       "      <td>0.00339</td>\n",
       "      <td>0.010162</td>\n",
       "      <td>0.002582</td>\n",
       "      <td>0.0</td>\n",
       "      <td>0.0</td>\n",
       "      <td>0.000451</td>\n",
       "      <td>0.0</td>\n",
       "      <td>0.0</td>\n",
       "      <td>0.009332</td>\n",
       "      <td>0.02728</td>\n",
       "      <td>0.0</td>\n",
       "      <td>0.0</td>\n",
       "      <td>0.0</td>\n",
       "      <td>0.0</td>\n",
       "      <td>0.0</td>\n",
       "      <td>0.0</td>\n",
       "      <td>0.0</td>\n",
       "      <td>0.0</td>\n",
       "      <td>0.0</td>\n",
       "      <td>0.0</td>\n",
       "      <td>0.0</td>\n",
       "      <td>0.0</td>\n",
       "      <td>0.122448</td>\n",
       "      <td>0.040061</td>\n",
       "      <td>0.0</td>\n",
       "    </tr>\n",
       "  </tbody>\n",
       "</table>\n",
       "</div>"
      ],
      "text/plain": [
       "   Lot_Frontage  Lot_Area  Mas_Vnr_Area  BsmtFin_SF_1  BsmtFin_SF_2  \\\n",
       "0      0.022046   0.02514       0.05173       0.00012           0.0   \n",
       "\n",
       "   Bsmt_Unf_SF  Total_Bsmt_SF  First_Flr_SF  Second_Flr_SF  Gr_Liv_Area  \\\n",
       "0     0.010666       0.149573      0.041615       0.007182     0.308596   \n",
       "\n",
       "   Bsmt_Full_Bath  Bsmt_Half_Bath  Full_Bath  Half_Bath  Bedroom_AbvGr  \\\n",
       "0        0.004272             0.0        0.0   0.006114       0.000719   \n",
       "\n",
       "   Kitchen_AbvGr  TotRms_AbvGrd  Fireplaces  Garage_Cars  Garage_Area  \\\n",
       "0            0.0       0.008397    0.012991     0.135134      0.00339   \n",
       "\n",
       "   Wood_Deck_SF  Open_Porch_SF  Enclosed_Porch  Three_season_porch  \\\n",
       "0      0.010162       0.002582             0.0                 0.0   \n",
       "\n",
       "   Screen_Porch  Pool_Area  Misc_Val  Longitude  Latitude  Sales_Mo_1  \\\n",
       "0      0.000451        0.0       0.0   0.009332   0.02728         0.0   \n",
       "\n",
       "   Sales_Mo_2  Sales_Mo_3  Sales_Mo_4  Sales_Mo_5  Sales_Mo_6  Sales_Mo_7  \\\n",
       "0         0.0         0.0         0.0         0.0         0.0         0.0   \n",
       "\n",
       "   Sales_Mo_8  Sales_Mo_9  Sales_Mo_10  Sales_Mo_11  Sales_Mo_12  Year_Built  \\\n",
       "0         0.0         0.0          0.0          0.0          0.0    0.122448   \n",
       "\n",
       "   Year_Remod_Add  Year_Sold  \n",
       "0        0.040061        0.0  "
      ]
     },
     "execution_count": 182,
     "metadata": {},
     "output_type": "execute_result"
    }
   ],
   "source": [
    "pd.DataFrame([adaregr.feature_importances_], columns=clusdata.columns)"
   ]
  },
  {
   "cell_type": "code",
   "execution_count": 180,
   "metadata": {},
   "outputs": [
    {
     "data": {
      "text/html": [
       "<div>\n",
       "<style scoped>\n",
       "    .dataframe tbody tr th:only-of-type {\n",
       "        vertical-align: middle;\n",
       "    }\n",
       "\n",
       "    .dataframe tbody tr th {\n",
       "        vertical-align: top;\n",
       "    }\n",
       "\n",
       "    .dataframe thead th {\n",
       "        text-align: right;\n",
       "    }\n",
       "</style>\n",
       "<table border=\"1\" class=\"dataframe\">\n",
       "  <thead>\n",
       "    <tr style=\"text-align: right;\">\n",
       "      <th></th>\n",
       "      <th>Pred</th>\n",
       "      <th>Actual</th>\n",
       "    </tr>\n",
       "  </thead>\n",
       "  <tbody>\n",
       "    <tr>\n",
       "      <th>0</th>\n",
       "      <td>197151.926471</td>\n",
       "      <td>215000</td>\n",
       "    </tr>\n",
       "    <tr>\n",
       "      <th>1</th>\n",
       "      <td>125633.343257</td>\n",
       "      <td>116500</td>\n",
       "    </tr>\n",
       "    <tr>\n",
       "      <th>2</th>\n",
       "      <td>127255.730570</td>\n",
       "      <td>160000</td>\n",
       "    </tr>\n",
       "    <tr>\n",
       "      <th>3</th>\n",
       "      <td>218881.657143</td>\n",
       "      <td>239500</td>\n",
       "    </tr>\n",
       "    <tr>\n",
       "      <th>4</th>\n",
       "      <td>241206.790984</td>\n",
       "      <td>218836</td>\n",
       "    </tr>\n",
       "    <tr>\n",
       "      <th>...</th>\n",
       "      <td>...</td>\n",
       "      <td>...</td>\n",
       "    </tr>\n",
       "    <tr>\n",
       "      <th>433</th>\n",
       "      <td>133559.842179</td>\n",
       "      <td>133000</td>\n",
       "    </tr>\n",
       "    <tr>\n",
       "      <th>434</th>\n",
       "      <td>466474.105691</td>\n",
       "      <td>342000</td>\n",
       "    </tr>\n",
       "    <tr>\n",
       "      <th>435</th>\n",
       "      <td>164684.867971</td>\n",
       "      <td>93369</td>\n",
       "    </tr>\n",
       "    <tr>\n",
       "      <th>436</th>\n",
       "      <td>118436.969340</td>\n",
       "      <td>94000</td>\n",
       "    </tr>\n",
       "    <tr>\n",
       "      <th>437</th>\n",
       "      <td>206708.906907</td>\n",
       "      <td>183500</td>\n",
       "    </tr>\n",
       "  </tbody>\n",
       "</table>\n",
       "<p>438 rows × 2 columns</p>\n",
       "</div>"
      ],
      "text/plain": [
       "              Pred  Actual\n",
       "0    197151.926471  215000\n",
       "1    125633.343257  116500\n",
       "2    127255.730570  160000\n",
       "3    218881.657143  239500\n",
       "4    241206.790984  218836\n",
       "..             ...     ...\n",
       "433  133559.842179  133000\n",
       "434  466474.105691  342000\n",
       "435  164684.867971   93369\n",
       "436  118436.969340   94000\n",
       "437  206708.906907  183500\n",
       "\n",
       "[438 rows x 2 columns]"
      ]
     },
     "execution_count": 180,
     "metadata": {},
     "output_type": "execute_result"
    }
   ],
   "source": [
    "pd.DataFrame({'Pred':ypred, 'Actual':testy}, columns=['Pred','Actual'])"
   ]
  },
  {
   "cell_type": "markdown",
   "metadata": {},
   "source": [
    "Fitting the AdaBoost regressor again using PCA features."
   ]
  },
  {
   "cell_type": "code",
   "execution_count": 190,
   "metadata": {},
   "outputs": [],
   "source": [
    "adaregr = AdaBoostRegressor(n_estimators=50,learning_rate=.5)\n",
    "adaregr.fit(trainXPCA,trainy)\n",
    "ypred = adaregr.predict(testXPCA)"
   ]
  },
  {
   "cell_type": "code",
   "execution_count": 192,
   "metadata": {},
   "outputs": [
    {
     "data": {
      "text/plain": [
       "0.07101325270319969"
      ]
     },
     "execution_count": 192,
     "metadata": {},
     "output_type": "execute_result"
    }
   ],
   "source": [
    "adaregr.score(trainXPCA,trainy)"
   ]
  },
  {
   "cell_type": "code",
   "execution_count": 187,
   "metadata": {},
   "outputs": [
    {
     "data": {
      "text/html": [
       "<div>\n",
       "<style scoped>\n",
       "    .dataframe tbody tr th:only-of-type {\n",
       "        vertical-align: middle;\n",
       "    }\n",
       "\n",
       "    .dataframe tbody tr th {\n",
       "        vertical-align: top;\n",
       "    }\n",
       "\n",
       "    .dataframe thead th {\n",
       "        text-align: right;\n",
       "    }\n",
       "</style>\n",
       "<table border=\"1\" class=\"dataframe\">\n",
       "  <thead>\n",
       "    <tr style=\"text-align: right;\">\n",
       "      <th></th>\n",
       "      <th>Pred</th>\n",
       "      <th>Actual</th>\n",
       "    </tr>\n",
       "  </thead>\n",
       "  <tbody>\n",
       "    <tr>\n",
       "      <th>0</th>\n",
       "      <td>316747.235294</td>\n",
       "      <td>215000</td>\n",
       "    </tr>\n",
       "    <tr>\n",
       "      <th>1</th>\n",
       "      <td>165367.655266</td>\n",
       "      <td>116500</td>\n",
       "    </tr>\n",
       "    <tr>\n",
       "      <th>2</th>\n",
       "      <td>192297.624402</td>\n",
       "      <td>160000</td>\n",
       "    </tr>\n",
       "    <tr>\n",
       "      <th>3</th>\n",
       "      <td>191365.370968</td>\n",
       "      <td>239500</td>\n",
       "    </tr>\n",
       "    <tr>\n",
       "      <th>4</th>\n",
       "      <td>212039.655462</td>\n",
       "      <td>218836</td>\n",
       "    </tr>\n",
       "    <tr>\n",
       "      <th>...</th>\n",
       "      <td>...</td>\n",
       "      <td>...</td>\n",
       "    </tr>\n",
       "    <tr>\n",
       "      <th>433</th>\n",
       "      <td>165367.655266</td>\n",
       "      <td>133000</td>\n",
       "    </tr>\n",
       "    <tr>\n",
       "      <th>434</th>\n",
       "      <td>299928.928447</td>\n",
       "      <td>342000</td>\n",
       "    </tr>\n",
       "    <tr>\n",
       "      <th>435</th>\n",
       "      <td>165367.655266</td>\n",
       "      <td>93369</td>\n",
       "    </tr>\n",
       "    <tr>\n",
       "      <th>436</th>\n",
       "      <td>165367.655266</td>\n",
       "      <td>94000</td>\n",
       "    </tr>\n",
       "    <tr>\n",
       "      <th>437</th>\n",
       "      <td>172598.385465</td>\n",
       "      <td>183500</td>\n",
       "    </tr>\n",
       "  </tbody>\n",
       "</table>\n",
       "<p>438 rows × 2 columns</p>\n",
       "</div>"
      ],
      "text/plain": [
       "              Pred  Actual\n",
       "0    316747.235294  215000\n",
       "1    165367.655266  116500\n",
       "2    192297.624402  160000\n",
       "3    191365.370968  239500\n",
       "4    212039.655462  218836\n",
       "..             ...     ...\n",
       "433  165367.655266  133000\n",
       "434  299928.928447  342000\n",
       "435  165367.655266   93369\n",
       "436  165367.655266   94000\n",
       "437  172598.385465  183500\n",
       "\n",
       "[438 rows x 2 columns]"
      ]
     },
     "execution_count": 187,
     "metadata": {},
     "output_type": "execute_result"
    }
   ],
   "source": [
    "pd.DataFrame({'Pred':ypred, 'Actual':testy}, columns=['Pred','Actual'])"
   ]
  },
  {
   "cell_type": "code",
   "execution_count": 197,
   "metadata": {},
   "outputs": [],
   "source": [
    "dill.dump_session('saved_notebook.db')"
   ]
  }
 ],
 "metadata": {
  "kernelspec": {
   "display_name": "Python 3",
   "language": "python",
   "name": "python3"
  },
  "language_info": {
   "codemirror_mode": {
    "name": "ipython",
    "version": 3
   },
   "file_extension": ".py",
   "mimetype": "text/x-python",
   "name": "python",
   "nbconvert_exporter": "python",
   "pygments_lexer": "ipython3",
   "version": "3.7.6"
  }
 },
 "nbformat": 4,
 "nbformat_minor": 4
}
